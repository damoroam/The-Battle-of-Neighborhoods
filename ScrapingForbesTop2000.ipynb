{
 "cells": [
  {
   "cell_type": "code",
   "execution_count": 3,
   "metadata": {},
   "outputs": [],
   "source": [
    "# import libraries\n",
    "import urllib.request\n",
    "from bs4 import BeautifulSoup\n",
    "from selenium import webdriver\n",
    "import time\n",
    "import pandas as pd\n",
    "from selenium.webdriver.common.by import By\n",
    "from selenium.webdriver.support.ui import WebDriverWait\n",
    "from selenium.webdriver.support import expected_conditions as EC\n",
    "\n",
    "##Usando FireFox\n",
    "# specify the url\n",
    "\n",
    "#print(urlpage)\n",
    "# run firefox webdriver from executable path of your choice\n",
    "#driver = webdriver.Firefox()\n",
    "\n",
    "##Usando Chrome\n",
    "path=r'C:\\Users\\ASUS\\opencv\\chromedriver.exe'\n",
    "driver=webdriver.Chrome(path)\n"
   ]
  },
  {
   "cell_type": "code",
   "execution_count": 2,
   "metadata": {},
   "outputs": [],
   "source": [
    "# get web page\n",
    "urlpage = 'https://www.forbes.com/global2000/' \n",
    "driver.get(urlpage)\n",
    "# execute script to scroll down the page\n",
    "#driver.execute_script(\"window.scrollTo(0, document.body.scrollHeight);var lenOfPage=document.body.scrollHeight;return lenOfPage;\")\n",
    "# sleep for 30s\n",
    "time.sleep(30)\n",
    "#driver.quit()"
   ]
  },
  {
   "cell_type": "code",
   "execution_count": 3,
   "metadata": {},
   "outputs": [
    {
     "name": "stdout",
     "output_type": "stream",
     "text": [
      "Number of results 106\n"
     ]
    }
   ],
   "source": [
    "#identificamos el los elemntos que nos sirven\n",
    "results=driver.find_elements_by_xpath('/html/body/div[2]/div[2]/div[2]/div[2]/div[1]/div/section[6]/div[1]/ul/li/div/div/table/tbody/tr')\n",
    "                                       \n",
    "print('Number of results', len(results))"
   ]
  },
  {
   "cell_type": "code",
   "execution_count": 4,
   "metadata": {},
   "outputs": [],
   "source": [
    "#Extraccion de la informacion en listas y formacion del data frame\n",
    "Rank=[]\n",
    "Company=[]\n",
    "Country=[]\n",
    "Sales=[]\n",
    "Profits=[]\n",
    "Assets=[]\n",
    "MarketValue=[]\n",
    "\n",
    "#for i in range(len(results)):\n",
    "for i in results:\n",
    "    if i.text.split('\\n')[0]!='':\n",
    "        #results[i].text.split('\\n')\n",
    "        Rank.append(i.text.split('\\n')[0])\n",
    "        Company.append(i.text.split('\\n')[1])\n",
    "        Country.append(i.text.split('\\n')[2])\n",
    "        Sales.append(i.text.split('\\n')[3])\n",
    "        Profits.append(i.text.split('\\n')[4])\n",
    "        Assets.append(i.text.split('\\n')[5])\n",
    "        MarketValue.append(i.text.split('\\n')[6])\n",
    "        \n",
    "    \n"
   ]
  },
  {
   "cell_type": "code",
   "execution_count": 7,
   "metadata": {},
   "outputs": [],
   "source": [
    "df={'Rank':Rank,'Company':Company,'Country':Country,'Sales':Sales,'Profits':Profits,'Assets':Assets,'MarketValue':MarketValue}\n",
    "ForbesT2000=pd.DataFrame(data=df) "
   ]
  },
  {
   "cell_type": "code",
   "execution_count": 163,
   "metadata": {},
   "outputs": [],
   "source": [
    "#ForbesT2000"
   ]
  },
  {
   "cell_type": "code",
   "execution_count": 7,
   "metadata": {},
   "outputs": [
    {
     "name": "stdout",
     "output_type": "stream",
     "text": [
      "Number of results 11\n"
     ]
    }
   ],
   "source": [
    "#Identificar como pasar a la siguiente pagina\n",
    "res=driver.find_elements_by_xpath('/html/body/div[2]/div[2]/div[2]/div[2]/div[1]/div/section[6]/div[1]/ul/li/div/div/div[2]/div/div/ul/li')\n",
    "print('Number of results', len(res))"
   ]
  },
  {
   "cell_type": "code",
   "execution_count": 9,
   "metadata": {},
   "outputs": [
    {
     "data": {
      "text/plain": [
       "<selenium.webdriver.remote.webelement.WebElement (session=\"f992f10af487648b44b63144ab69f94b\", element=\"66e2c3f4-aa4c-49af-9e9f-788fda2a5529\")>"
      ]
     },
     "execution_count": 9,
     "metadata": {},
     "output_type": "execute_result"
    }
   ],
   "source": [
    "a=res[-1].find_element_by_tag_name('a')\n",
    "a"
   ]
  },
  {
   "cell_type": "code",
   "execution_count": 10,
   "metadata": {},
   "outputs": [
    {
     "data": {
      "text/plain": [
       "'»'"
      ]
     },
     "execution_count": 10,
     "metadata": {},
     "output_type": "execute_result"
    }
   ],
   "source": [
    "a.text"
   ]
  },
  {
   "cell_type": "code",
   "execution_count": 156,
   "metadata": {},
   "outputs": [],
   "source": [
    "from selenium import webdriver\n",
    "path=r'C:\\Users\\ASUS\\opencv\\chromedriver.exe'\n",
    "driver=webdriver.Chrome(path)\n",
    "\n",
    "driver.get('https://www.forbes.com/global2000/')"
   ]
  },
  {
   "cell_type": "code",
   "execution_count": 5,
   "metadata": {},
   "outputs": [],
   "source": [
    "link=driver.find_element_by_link_text('»')"
   ]
  },
  {
   "cell_type": "code",
   "execution_count": 9,
   "metadata": {},
   "outputs": [],
   "source": [
    "link.click()"
   ]
  },
  {
   "cell_type": "code",
   "execution_count": null,
   "metadata": {},
   "outputs": [],
   "source": [
    "def ListForbes2000(url):\n",
    "    #peticion y lectura de la pagina\n",
    "    print(url)\n",
    "    urlpage = 'https://www.forbes.com/global2000/' \n",
    "    driver.get(urlpage)\n",
    "    \n",
    "    #identificando los segmentos donde estan los nombres de la empresas\n",
    "    \n",
    "    \n",
    "    #extraemos el link de la siguiente pagina\n",
    "    link=driver.find_element_by_link_text('»')\n",
    "    link.click()\n",
    "    \n",
    "    #condicional para la recursividad hasta acabar las paginas\n",
    "    if link=='»':\n",
    "        linkSigPagparcial=SigPagina.attrs['href']\n",
    "        Linkcompleto=PaginaInicial+linkSigPagparcial\n",
    "        #print(Linkcompleto)\n",
    "        ListValueToday(Linkcompleto)\n",
    "    else:\n",
    "        print('no hay mas paginas')\n",
    "        break\n",
    "    return Company"
   ]
  },
  {
   "cell_type": "code",
   "execution_count": 39,
   "metadata": {},
   "outputs": [
    {
     "name": "stdout",
     "output_type": "stream",
     "text": [
      "Extrayendo pagina 0\n",
      "Number of results 106\n",
      "Extrayendo pagina 1\n",
      "Number of results 106\n",
      "Extrayendo pagina 2\n",
      "Number of results 106\n",
      "Extrayendo pagina 3\n",
      "Number of results 106\n",
      "Extrayendo pagina 4\n",
      "Number of results 106\n",
      "Extrayendo pagina 5\n",
      "Number of results 106\n",
      "Extrayendo pagina 6\n",
      "Number of results 106\n",
      "Extrayendo pagina 7\n",
      "Number of results 106\n",
      "Extrayendo pagina 8\n",
      "Number of results 106\n",
      "Extrayendo pagina 9\n",
      "Number of results 106\n",
      "Extrayendo pagina 10\n",
      "Number of results 106\n",
      "Extrayendo pagina 11\n",
      "Number of results 106\n",
      "Extrayendo pagina 12\n",
      "Number of results 106\n",
      "Extrayendo pagina 13\n",
      "Number of results 106\n",
      "Extrayendo pagina 14\n",
      "Number of results 106\n",
      "Extrayendo pagina 15\n",
      "Number of results 106\n",
      "Extrayendo pagina 16\n",
      "Number of results 106\n",
      "Extrayendo pagina 17\n",
      "Number of results 106\n",
      "Extrayendo pagina 18\n",
      "Number of results 106\n",
      "Extrayendo pagina 19\n",
      "Number of results 106\n"
     ]
    }
   ],
   "source": [
    "urlpage = 'https://www.forbes.com/global2000' \n",
    "driver=webdriver.Chrome(path)\n",
    "driver.get(urlpage)\n",
    "Rank=[]\n",
    "Company=[]\n",
    "Country=[]\n",
    "Sales=[]\n",
    "Profits=[]\n",
    "Assets=[]\n",
    "MarketValue=[]\n",
    "bucle=True\n",
    "cont=0\n",
    "while bucle:\n",
    "    print('Extrayendo pagina '+str(cont))\n",
    "    \n",
    "    #Deteccion de la fila en forma de texto\n",
    "    results=driver.find_elements_by_xpath('/html/body/div[2]/div[2]/div[2]/div[2]/div[1]/div/section[6]/div[1]/ul/li/div/div/table/tbody/tr')\n",
    "    print('Number of results', len(results))\n",
    "\n",
    "    #Extraccion de la informacion en listas y formacion del data frame\n",
    "    for i in results:\n",
    "            if i.text.split('\\n')[0]!='':\n",
    "                Rank.append(i.text.split('\\n')[0])\n",
    "                Company.append(i.text.split('\\n')[1])\n",
    "                Country.append(i.text.split('\\n')[2])\n",
    "                Sales.append(i.text.split('\\n')[3])\n",
    "                Profits.append(i.text.split('\\n')[4])\n",
    "                Assets.append(i.text.split('\\n')[5])\n",
    "                MarketValue.append(i.text.split('\\n')[6])     \n",
    "                \n",
    "    #buscar y hacer click en el link de la siguiente pagina\n",
    "    link=driver.find_element_by_link_text('»')\n",
    "    link.click()\n",
    "    \n",
    "    #Contador de pagina extraida\n",
    "    cont=cont+1\n",
    "    \n",
    "    #condicion para salir del bucle\n",
    "    if cont==20:\n",
    "        bucle=False\n",
    "\n"
   ]
  },
  {
   "cell_type": "code",
   "execution_count": 41,
   "metadata": {},
   "outputs": [
    {
     "data": {
      "text/plain": [
       "2000"
      ]
     },
     "execution_count": 41,
     "metadata": {},
     "output_type": "execute_result"
    }
   ],
   "source": [
    "len(Company)"
   ]
  },
  {
   "cell_type": "code",
   "execution_count": 44,
   "metadata": {},
   "outputs": [],
   "source": [
    "#convertir en data frame y guardar en un archivo .csv\n",
    "ForbesDF=pd.DataFrame({'Rank':Rank,'Company':Company,'Country':Country,'Sales':Sales,'Profits':Profits,'Assets':Assets,'MarketValue':MarketValue})"
   ]
  },
  {
   "cell_type": "code",
   "execution_count": 45,
   "metadata": {},
   "outputs": [
    {
     "data": {
      "text/html": [
       "<div>\n",
       "<style scoped>\n",
       "    .dataframe tbody tr th:only-of-type {\n",
       "        vertical-align: middle;\n",
       "    }\n",
       "\n",
       "    .dataframe tbody tr th {\n",
       "        vertical-align: top;\n",
       "    }\n",
       "\n",
       "    .dataframe thead th {\n",
       "        text-align: right;\n",
       "    }\n",
       "</style>\n",
       "<table border=\"1\" class=\"dataframe\">\n",
       "  <thead>\n",
       "    <tr style=\"text-align: right;\">\n",
       "      <th></th>\n",
       "      <th>Rank</th>\n",
       "      <th>Company</th>\n",
       "      <th>Country</th>\n",
       "      <th>Sales</th>\n",
       "      <th>Profits</th>\n",
       "      <th>Assets</th>\n",
       "      <th>MarketValue</th>\n",
       "    </tr>\n",
       "  </thead>\n",
       "  <tbody>\n",
       "    <tr>\n",
       "      <th>0</th>\n",
       "      <td>1</td>\n",
       "      <td>ICBC</td>\n",
       "      <td>China</td>\n",
       "      <td>$177.2 B</td>\n",
       "      <td>$45.3 B</td>\n",
       "      <td>$4,322.5 B</td>\n",
       "      <td>$242.3 B</td>\n",
       "    </tr>\n",
       "    <tr>\n",
       "      <th>1</th>\n",
       "      <td>2</td>\n",
       "      <td>China Construction Bank</td>\n",
       "      <td>China</td>\n",
       "      <td>$162.1 B</td>\n",
       "      <td>$38.9 B</td>\n",
       "      <td>$3,822 B</td>\n",
       "      <td>$203.8 B</td>\n",
       "    </tr>\n",
       "    <tr>\n",
       "      <th>2</th>\n",
       "      <td>3</td>\n",
       "      <td>JPMorgan Chase</td>\n",
       "      <td>United States</td>\n",
       "      <td>$142.9 B</td>\n",
       "      <td>$30 B</td>\n",
       "      <td>$3,139.4 B</td>\n",
       "      <td>$291.7 B</td>\n",
       "    </tr>\n",
       "    <tr>\n",
       "      <th>3</th>\n",
       "      <td>4</td>\n",
       "      <td>Berkshire Hathaway</td>\n",
       "      <td>United States</td>\n",
       "      <td>$254.6 B</td>\n",
       "      <td>$81.4 B</td>\n",
       "      <td>$817.7 B</td>\n",
       "      <td>$455.4 B</td>\n",
       "    </tr>\n",
       "    <tr>\n",
       "      <th>4</th>\n",
       "      <td>5</td>\n",
       "      <td>Agricultural Bank of China</td>\n",
       "      <td>China</td>\n",
       "      <td>$148.7 B</td>\n",
       "      <td>$30.9 B</td>\n",
       "      <td>$3,697.5 B</td>\n",
       "      <td>$147.2 B</td>\n",
       "    </tr>\n",
       "    <tr>\n",
       "      <th>...</th>\n",
       "      <td>...</td>\n",
       "      <td>...</td>\n",
       "      <td>...</td>\n",
       "      <td>...</td>\n",
       "      <td>...</td>\n",
       "      <td>...</td>\n",
       "      <td>...</td>\n",
       "    </tr>\n",
       "    <tr>\n",
       "      <th>1995</th>\n",
       "      <td>1995</td>\n",
       "      <td>Founder Securities</td>\n",
       "      <td>China</td>\n",
       "      <td>$1.4 B</td>\n",
       "      <td>$114.7 M</td>\n",
       "      <td>$18.6 B</td>\n",
       "      <td>$8.3 B</td>\n",
       "    </tr>\n",
       "    <tr>\n",
       "      <th>1996</th>\n",
       "      <td>1995</td>\n",
       "      <td>Merlin Properties SOCIMI S.A</td>\n",
       "      <td>Spain</td>\n",
       "      <td>$594 M</td>\n",
       "      <td>$630.9 M</td>\n",
       "      <td>$14.9 B</td>\n",
       "      <td>$4.3 B</td>\n",
       "    </tr>\n",
       "    <tr>\n",
       "      <th>1997</th>\n",
       "      <td>1998</td>\n",
       "      <td>Heico</td>\n",
       "      <td>United States</td>\n",
       "      <td>$2.1 B</td>\n",
       "      <td>$370.5 M</td>\n",
       "      <td>$3.1 B</td>\n",
       "      <td>$11.8 B</td>\n",
       "    </tr>\n",
       "    <tr>\n",
       "      <th>1998</th>\n",
       "      <td>1999</td>\n",
       "      <td>W.P. Carey</td>\n",
       "      <td>United States</td>\n",
       "      <td>$1.2 B</td>\n",
       "      <td>$305.2 M</td>\n",
       "      <td>$14.1 B</td>\n",
       "      <td>$11.3 B</td>\n",
       "    </tr>\n",
       "    <tr>\n",
       "      <th>1999</th>\n",
       "      <td>1999</td>\n",
       "      <td>Zhejiang Century Huatong Group</td>\n",
       "      <td>China</td>\n",
       "      <td>$2.2 B</td>\n",
       "      <td>$364.8 M</td>\n",
       "      <td>$4.7 B</td>\n",
       "      <td>$12.1 B</td>\n",
       "    </tr>\n",
       "  </tbody>\n",
       "</table>\n",
       "<p>2000 rows × 7 columns</p>\n",
       "</div>"
      ],
      "text/plain": [
       "      Rank                         Company        Country     Sales   Profits  \\\n",
       "0        1                            ICBC          China  $177.2 B   $45.3 B   \n",
       "1        2         China Construction Bank          China  $162.1 B   $38.9 B   \n",
       "2        3                  JPMorgan Chase  United States  $142.9 B     $30 B   \n",
       "3        4              Berkshire Hathaway  United States  $254.6 B   $81.4 B   \n",
       "4        5      Agricultural Bank of China          China  $148.7 B   $30.9 B   \n",
       "...    ...                             ...            ...       ...       ...   \n",
       "1995  1995              Founder Securities          China    $1.4 B  $114.7 M   \n",
       "1996  1995    Merlin Properties SOCIMI S.A          Spain    $594 M  $630.9 M   \n",
       "1997  1998                           Heico  United States    $2.1 B  $370.5 M   \n",
       "1998  1999                      W.P. Carey  United States    $1.2 B  $305.2 M   \n",
       "1999  1999  Zhejiang Century Huatong Group          China    $2.2 B  $364.8 M   \n",
       "\n",
       "          Assets MarketValue  \n",
       "0     $4,322.5 B    $242.3 B  \n",
       "1       $3,822 B    $203.8 B  \n",
       "2     $3,139.4 B    $291.7 B  \n",
       "3       $817.7 B    $455.4 B  \n",
       "4     $3,697.5 B    $147.2 B  \n",
       "...          ...         ...  \n",
       "1995     $18.6 B      $8.3 B  \n",
       "1996     $14.9 B      $4.3 B  \n",
       "1997      $3.1 B     $11.8 B  \n",
       "1998     $14.1 B     $11.3 B  \n",
       "1999      $4.7 B     $12.1 B  \n",
       "\n",
       "[2000 rows x 7 columns]"
      ]
     },
     "execution_count": 45,
     "metadata": {},
     "output_type": "execute_result"
    }
   ],
   "source": [
    "ForbesDF"
   ]
  },
  {
   "cell_type": "code",
   "execution_count": 47,
   "metadata": {},
   "outputs": [],
   "source": [
    "ForbesDF.to_csv('Fobes.csv')"
   ]
  },
  {
   "cell_type": "code",
   "execution_count": null,
   "metadata": {},
   "outputs": [],
   "source": []
  }
 ],
 "metadata": {
  "kernelspec": {
   "display_name": "Python 3",
   "language": "python",
   "name": "python3"
  },
  "language_info": {
   "codemirror_mode": {
    "name": "ipython",
    "version": 3
   },
   "file_extension": ".py",
   "mimetype": "text/x-python",
   "name": "python",
   "nbconvert_exporter": "python",
   "pygments_lexer": "ipython3",
   "version": "3.7.4"
  }
 },
 "nbformat": 4,
 "nbformat_minor": 4
}
